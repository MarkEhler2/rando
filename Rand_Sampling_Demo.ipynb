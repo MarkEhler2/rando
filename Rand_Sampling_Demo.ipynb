{
 "cells": [
  {
   "cell_type": "markdown",
   "metadata": {
    "tags": []
   },
   "source": [
    "# Using Synth Data Classes"
   ]
  },
  {
   "cell_type": "code",
   "execution_count": 4,
   "metadata": {},
   "outputs": [],
   "source": [
    "import randomize_data\n",
    "import get_stats\n",
    "import pandas as pd\n",
    "import numpy as np\n",
    "from scipy.stats import skewnorm"
   ]
  },
  {
   "cell_type": "code",
   "execution_count": 5,
   "metadata": {},
   "outputs": [
    {
     "data": {
      "text/html": [
       "<div>\n",
       "<style scoped>\n",
       "    .dataframe tbody tr th:only-of-type {\n",
       "        vertical-align: middle;\n",
       "    }\n",
       "\n",
       "    .dataframe tbody tr th {\n",
       "        vertical-align: top;\n",
       "    }\n",
       "\n",
       "    .dataframe thead th {\n",
       "        text-align: right;\n",
       "    }\n",
       "</style>\n",
       "<table border=\"1\" class=\"dataframe\">\n",
       "  <thead>\n",
       "    <tr style=\"text-align: right;\">\n",
       "      <th></th>\n",
       "      <th>Avg_relative_humidity_set_1</th>\n",
       "      <th>Avg_wind_speed_set_1</th>\n",
       "      <th>Avg_air_temp_set_1</th>\n",
       "      <th>Avg_dew_point_temperature_set_1d</th>\n",
       "      <th>Avg_solar_radiation_set_1</th>\n",
       "      <th>RT_Demand</th>\n",
       "      <th>Dry_Bulb</th>\n",
       "      <th>Dew_Point</th>\n",
       "      <th>clearsky_ghi</th>\n",
       "      <th>clearsky_dni</th>\n",
       "      <th>...</th>\n",
       "      <th>test_HDD_1day_(3, 4]</th>\n",
       "      <th>test_HDD_1day_(4, 5]</th>\n",
       "      <th>test_HDD_3day_(1, 2]</th>\n",
       "      <th>test_HDD_3day_(2, 3]</th>\n",
       "      <th>test_HDD_3day_(3, 4]</th>\n",
       "      <th>test_HDD_3day_(4, 5]</th>\n",
       "      <th>test_HDD_5day_(1, 2]</th>\n",
       "      <th>test_HDD_5day_(2, 3]</th>\n",
       "      <th>test_HDD_5day_(3, 4]</th>\n",
       "      <th>test_HDD_5day_(4, 5]</th>\n",
       "    </tr>\n",
       "  </thead>\n",
       "  <tbody>\n",
       "    <tr>\n",
       "      <th>0</th>\n",
       "      <td>57.45</td>\n",
       "      <td>4.01</td>\n",
       "      <td>21.98</td>\n",
       "      <td>13.11</td>\n",
       "      <td>399.023221</td>\n",
       "      <td>NaN</td>\n",
       "      <td>NaN</td>\n",
       "      <td>NaN</td>\n",
       "      <td>399</td>\n",
       "      <td>732</td>\n",
       "      <td>...</td>\n",
       "      <td>0</td>\n",
       "      <td>0</td>\n",
       "      <td>0</td>\n",
       "      <td>0</td>\n",
       "      <td>0</td>\n",
       "      <td>0</td>\n",
       "      <td>1</td>\n",
       "      <td>0</td>\n",
       "      <td>0</td>\n",
       "      <td>0</td>\n",
       "    </tr>\n",
       "    <tr>\n",
       "      <th>1</th>\n",
       "      <td>63.86</td>\n",
       "      <td>3.68</td>\n",
       "      <td>20.36</td>\n",
       "      <td>13.15</td>\n",
       "      <td>213.958869</td>\n",
       "      <td>NaN</td>\n",
       "      <td>NaN</td>\n",
       "      <td>NaN</td>\n",
       "      <td>213</td>\n",
       "      <td>589</td>\n",
       "      <td>...</td>\n",
       "      <td>0</td>\n",
       "      <td>0</td>\n",
       "      <td>0</td>\n",
       "      <td>0</td>\n",
       "      <td>0</td>\n",
       "      <td>0</td>\n",
       "      <td>1</td>\n",
       "      <td>0</td>\n",
       "      <td>0</td>\n",
       "      <td>0</td>\n",
       "    </tr>\n",
       "    <tr>\n",
       "      <th>2</th>\n",
       "      <td>66.04</td>\n",
       "      <td>2.67</td>\n",
       "      <td>19.77</td>\n",
       "      <td>13.19</td>\n",
       "      <td>24.000000</td>\n",
       "      <td>NaN</td>\n",
       "      <td>NaN</td>\n",
       "      <td>NaN</td>\n",
       "      <td>45</td>\n",
       "      <td>273</td>\n",
       "      <td>...</td>\n",
       "      <td>0</td>\n",
       "      <td>0</td>\n",
       "      <td>0</td>\n",
       "      <td>0</td>\n",
       "      <td>0</td>\n",
       "      <td>0</td>\n",
       "      <td>1</td>\n",
       "      <td>0</td>\n",
       "      <td>0</td>\n",
       "      <td>0</td>\n",
       "    </tr>\n",
       "    <tr>\n",
       "      <th>3</th>\n",
       "      <td>71.34</td>\n",
       "      <td>3.19</td>\n",
       "      <td>17.19</td>\n",
       "      <td>11.86</td>\n",
       "      <td>0.000000</td>\n",
       "      <td>NaN</td>\n",
       "      <td>NaN</td>\n",
       "      <td>NaN</td>\n",
       "      <td>0</td>\n",
       "      <td>0</td>\n",
       "      <td>...</td>\n",
       "      <td>0</td>\n",
       "      <td>0</td>\n",
       "      <td>0</td>\n",
       "      <td>0</td>\n",
       "      <td>0</td>\n",
       "      <td>0</td>\n",
       "      <td>1</td>\n",
       "      <td>0</td>\n",
       "      <td>0</td>\n",
       "      <td>0</td>\n",
       "    </tr>\n",
       "    <tr>\n",
       "      <th>4</th>\n",
       "      <td>79.92</td>\n",
       "      <td>1.53</td>\n",
       "      <td>15.24</td>\n",
       "      <td>11.70</td>\n",
       "      <td>0.000000</td>\n",
       "      <td>NaN</td>\n",
       "      <td>NaN</td>\n",
       "      <td>NaN</td>\n",
       "      <td>0</td>\n",
       "      <td>0</td>\n",
       "      <td>...</td>\n",
       "      <td>0</td>\n",
       "      <td>0</td>\n",
       "      <td>0</td>\n",
       "      <td>0</td>\n",
       "      <td>0</td>\n",
       "      <td>0</td>\n",
       "      <td>1</td>\n",
       "      <td>0</td>\n",
       "      <td>0</td>\n",
       "      <td>0</td>\n",
       "    </tr>\n",
       "  </tbody>\n",
       "</table>\n",
       "<p>5 rows × 81 columns</p>\n",
       "</div>"
      ],
      "text/plain": [
       "   Avg_relative_humidity_set_1  Avg_wind_speed_set_1  Avg_air_temp_set_1  \\\n",
       "0                        57.45                  4.01               21.98   \n",
       "1                        63.86                  3.68               20.36   \n",
       "2                        66.04                  2.67               19.77   \n",
       "3                        71.34                  3.19               17.19   \n",
       "4                        79.92                  1.53               15.24   \n",
       "\n",
       "   Avg_dew_point_temperature_set_1d  Avg_solar_radiation_set_1  RT_Demand  \\\n",
       "0                             13.11                 399.023221        NaN   \n",
       "1                             13.15                 213.958869        NaN   \n",
       "2                             13.19                  24.000000        NaN   \n",
       "3                             11.86                   0.000000        NaN   \n",
       "4                             11.70                   0.000000        NaN   \n",
       "\n",
       "   Dry_Bulb  Dew_Point  clearsky_ghi  clearsky_dni  ...  test_HDD_1day_(3, 4]  \\\n",
       "0       NaN        NaN           399           732  ...                     0   \n",
       "1       NaN        NaN           213           589  ...                     0   \n",
       "2       NaN        NaN            45           273  ...                     0   \n",
       "3       NaN        NaN             0             0  ...                     0   \n",
       "4       NaN        NaN             0             0  ...                     0   \n",
       "\n",
       "   test_HDD_1day_(4, 5]  test_HDD_3day_(1, 2] test_HDD_3day_(2, 3]  \\\n",
       "0                     0                     0                    0   \n",
       "1                     0                     0                    0   \n",
       "2                     0                     0                    0   \n",
       "3                     0                     0                    0   \n",
       "4                     0                     0                    0   \n",
       "\n",
       "   test_HDD_3day_(3, 4]  test_HDD_3day_(4, 5]  test_HDD_5day_(1, 2]  \\\n",
       "0                     0                     0                     1   \n",
       "1                     0                     0                     1   \n",
       "2                     0                     0                     1   \n",
       "3                     0                     0                     1   \n",
       "4                     0                     0                     1   \n",
       "\n",
       "   test_HDD_5day_(2, 3]  test_HDD_5day_(3, 4]  test_HDD_5day_(4, 5]  \n",
       "0                     0                     0                     0  \n",
       "1                     0                     0                     0  \n",
       "2                     0                     0                     0  \n",
       "3                     0                     0                     0  \n",
       "4                     0                     0                     0  \n",
       "\n",
       "[5 rows x 81 columns]"
      ]
     },
     "execution_count": 5,
     "metadata": {},
     "output_type": "execute_result"
    }
   ],
   "source": [
    "df = pd.read_csv('nimble_hourly_demandload_features_share.csv')\n",
    "df.head()"
   ]
  },
  {
   "cell_type": "code",
   "execution_count": 6,
   "metadata": {},
   "outputs": [
    {
     "name": "stdout",
     "output_type": "stream",
     "text": [
      "(1519, 81)\n"
     ]
    }
   ],
   "source": [
    "# total hot weather days with weather features\n",
    "hot_weather = df[df['test_CDD_1day'] == 0]\n",
    "print(hot_weather.shape)"
   ]
  },
  {
   "cell_type": "code",
   "execution_count": 7,
   "metadata": {},
   "outputs": [
    {
     "name": "stdout",
     "output_type": "stream",
     "text": [
      "(444, 81)\n"
     ]
    }
   ],
   "source": [
    "# hot weather days with demand load\n",
    "df.dropna(inplace = True)\n",
    "dl_hot_weather = df[df['test_CDD_1day'] == 0]\n",
    "print(dl_hot_weather.shape)"
   ]
  },
  {
   "cell_type": "markdown",
   "metadata": {},
   "source": [
    "We lost nearly 1100 rows"
   ]
  },
  {
   "cell_type": "code",
   "execution_count": 8,
   "metadata": {},
   "outputs": [
    {
     "data": {
      "text/plain": [
       "Int64Index([  7450,   7451,   7452,   7453,   7454,   7455,   7456,   7457,\n",
       "              7458,   7459,\n",
       "            ...\n",
       "            155229, 155230, 155231, 155232, 155233, 155234, 155235, 155236,\n",
       "            155237, 155238],\n",
       "           dtype='int64', length=1075)"
      ]
     },
     "execution_count": 8,
     "metadata": {},
     "output_type": "execute_result"
    }
   ],
   "source": [
    "extra_days = hot_weather.index[hot_weather.isnull().any(axis=1)]\n",
    "extra_days"
   ]
  },
  {
   "cell_type": "code",
   "execution_count": 9,
   "metadata": {},
   "outputs": [
    {
     "data": {
      "text/plain": [
       "(1075, 81)"
      ]
     },
     "execution_count": 9,
     "metadata": {},
     "output_type": "execute_result"
    }
   ],
   "source": [
    "hot_weather_only = hot_weather[hot_weather.index.isin(extra_days)]\n",
    "hot_weather_only.shape"
   ]
  },
  {
   "cell_type": "code",
   "execution_count": 10,
   "metadata": {},
   "outputs": [],
   "source": [
    "stats_getter = get_stats.GetStats(dl_hot_weather.RT_Demand)\n",
    "mean = stats_getter.get_mean()\n",
    "std = stats_getter.get_std()"
   ]
  },
  {
   "cell_type": "code",
   "execution_count": 11,
   "metadata": {},
   "outputs": [
    {
     "name": "stdout",
     "output_type": "stream",
     "text": [
      "These stats should be stored as the same as if \n",
      "    we queried the RT demand col: \n",
      "    length: 444 min: 559.314 max: 930.3530000000001\n",
      "    mean: 731.088322072072 and std: 71.98528745027987\n"
     ]
    }
   ],
   "source": [
    "print(f\"These stats should be stored as the same as if \\n\\\n",
    "    we queried the RT demand col: \\n\\\n",
    "    length: {stats_getter._len} min: {stats_getter._min} max: {stats_getter._max}\\n\\\n",
    "    mean: {mean} and std: {std}\")"
   ]
  },
  {
   "cell_type": "code",
   "execution_count": 12,
   "metadata": {},
   "outputs": [
    {
     "data": {
      "text/plain": [
       "count    444.000000\n",
       "mean     731.088322\n",
       "std       72.066489\n",
       "min      559.314000\n",
       "25%      673.292250\n",
       "50%      736.444500\n",
       "75%      782.393250\n",
       "max      930.353000\n",
       "Name: RT_Demand, dtype: float64"
      ]
     },
     "execution_count": 12,
     "metadata": {},
     "output_type": "execute_result"
    }
   ],
   "source": [
    "dl_hot_weather.RT_Demand.describe()"
   ]
  },
  {
   "cell_type": "markdown",
   "metadata": {},
   "source": [
    "The advantage of this class is that it will work with any list not just pandas dataframes"
   ]
  },
  {
   "cell_type": "markdown",
   "metadata": {},
   "source": [
    "We can feed these stats into the `RandomData` class of the other lib"
   ]
  },
  {
   "cell_type": "code",
   "execution_count": 13,
   "metadata": {},
   "outputs": [],
   "source": [
    "randomize = randomize_data.RandomData(hot_weather_only.shape[0], mean, std)"
   ]
  },
  {
   "cell_type": "code",
   "execution_count": 14,
   "metadata": {},
   "outputs": [],
   "source": [
    "output = randomize.init_random_generator()"
   ]
  },
  {
   "cell_type": "code",
   "execution_count": 21,
   "metadata": {},
   "outputs": [
    {
     "data": {
      "image/png": "[encoded data removed]",
      "text/plain": [
       "<Figure size 432x288 with 1 Axes>"
      ]
     },
     "metadata": {
      "needs_background": "light"
     },
     "output_type": "display_data"
    }
   ],
   "source": [
    "import matplotlib.pyplot as plt\n",
    "\n",
    "plt.hist(output, bins='auto');"
   ]
  },
  {
   "cell_type": "code",
   "execution_count": 16,
   "metadata": {},
   "outputs": [
    {
     "data": {
      "text/plain": [
       "(array([ 9., 18., 34., 51., 40., 57., 69., 74., 38., 30., 15.,  6.,  3.]),\n",
       " array([559.314     , 587.85546154, 616.39692308, 644.93838462,\n",
       "        673.47984615, 702.02130769, 730.56276923, 759.10423077,\n",
       "        787.64569231, 816.18715385, 844.72861538, 873.27007692,\n",
       "        901.81153846, 930.353     ]),\n",
       " <a list of 13 Patch objects>)"
      ]
     },
     "execution_count": 16,
     "metadata": {},
     "output_type": "execute_result"
    },
    {
     "data": {
      "image/png": "[encoded data removed]",
      "text/plain": [
       "<Figure size 432x288 with 1 Axes>"
      ]
     },
     "metadata": {
      "needs_background": "light"
     },
     "output_type": "display_data"
    }
   ],
   "source": [
    "plt.hist(dl_hot_weather.RT_Demand, bins='auto')"
   ]
  },
  {
   "cell_type": "markdown",
   "metadata": {},
   "source": [
    "You can see the spread is about the same but the distribution is slightly skewed on our real data.  We can attempt to model this"
   ]
  },
  {
   "cell_type": "code",
   "execution_count": 33,
   "metadata": {},
   "outputs": [
    {
     "data": {
      "image/png": "[encoded data removed]",
      "text/plain": [
       "<Figure size 432x288 with 1 Axes>"
      ]
     },
     "metadata": {
      "needs_background": "light"
     },
     "output_type": "display_data"
    }
   ],
   "source": [
    "output_skewed = randomize.init_random_generator(spread = .20, skew = -1.75)\n",
    "plt.hist(output_skewed, bins='auto');"
   ]
  },
  {
   "cell_type": "markdown",
   "metadata": {},
   "source": [
    "More complicated stats functions will allow for more complex shapes and are still under development in the `randomize_data` library"
   ]
  },
  {
   "cell_type": "code",
   "execution_count": null,
   "metadata": {},
   "outputs": [],
   "source": []
  }
 ],
 "metadata": {
  "kernelspec": {
   "display_name": "Python 3",
   "language": "python",
   "name": "python3"
  },
  "language_info": {
   "codemirror_mode": {
    "name": "ipython",
    "version": 3
   },
   "file_extension": ".py",
   "mimetype": "text/x-python",
   "name": "python",
   "nbconvert_exporter": "python",
   "pygments_lexer": "ipython3",
   "version": "3.6.7"
  }
 },
 "nbformat": 4,
 "nbformat_minor": 4
}
